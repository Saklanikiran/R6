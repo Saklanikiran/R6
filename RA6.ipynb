{
 "cells": [
  {
   "cell_type": "markdown",
   "id": "d3081c40-756a-4b01-96e0-99182938fb26",
   "metadata": {},
   "source": [
    "# Ans : 1\n"
   ]
  },
  {
   "cell_type": "code",
   "execution_count": null,
   "id": "71749b36-b1d8-4aaa-bebc-ad7ceb03f45b",
   "metadata": {},
   "outputs": [],
   "source": []
  },
  {
   "cell_type": "markdown",
   "id": "84ca44fd-e592-490c-b634-32b36238af23",
   "metadata": {},
   "source": [
    "# Ans : 2"
   ]
  },
  {
   "cell_type": "code",
   "execution_count": null,
   "id": "4e2774bc-a096-4863-99e5-41a4066aba81",
   "metadata": {},
   "outputs": [],
   "source": []
  },
  {
   "cell_type": "markdown",
   "id": "f4cd8bce-53f2-4107-baab-5f20804586e6",
   "metadata": {},
   "source": [
    "# Ans : 3"
   ]
  },
  {
   "cell_type": "code",
   "execution_count": null,
   "id": "e465a048-e1ad-42b2-9a3e-5dfc493fe31e",
   "metadata": {},
   "outputs": [],
   "source": [
    "'''\n",
    "Performance and Reliability: Uptime guarantees, data center locations, and performance benchmarks.\n",
    "Scalability: Ease of scaling resources up or down.\n",
    "Cost: Pricing models, including pay-as-you-go, reserved instances, and total cost of ownership.\n",
    "Services and Features: Availability of necessary services (e.g., databases, AI/ML services, IoT).\n",
    "Security: Compliance with security standards (e.g., ISO 27001, SOC 2), encryption, and identity management.\n",
    "Support and Documentation: Availability of technical support, training resources, and comprehensive documentation.\n",
    "Integration: Compatibility with existing tools and workflows.\n",
    "Vendor Lock-In: Flexibility to move applications and data between providers.\n"
   ]
  },
  {
   "cell_type": "markdown",
   "id": "70788257-684c-444b-a2c1-35cf5dd7372c",
   "metadata": {},
   "source": [
    "# Ans : 4"
   ]
  },
  {
   "cell_type": "code",
   "execution_count": null,
   "id": "73ea1c4d-61f5-47c4-ac5c-a037c20fc019",
   "metadata": {},
   "outputs": [],
   "source": [
    "'''\n",
    "1.Responsive Design Principles:\n",
    "\n",
    "Fluid Grids: Use relative units like percentages for layout elements.\n",
    "Flexible Images: Ensure images resize correctly within their containing elements.\n",
    "Media Queries: Apply CSS rules based on device characteristics (e.g., screen width).\n",
    "\n",
    "2.Frameworks and Libraries:\n",
    "\n",
    "CSS Frameworks: Use Bootstrap, Foundation, or Bulma for responsive grid systems and components.\n",
    "JavaScript Libraries: Utilize libraries like React or Vue.js for dynamic and responsive UI components.\n",
    "\n",
    "3.Best Practices:\n",
    "\n",
    "Mobile-First Design: Start designing for the smallest screens and progressively enhance for larger screens.\n",
    "Consistency: Maintain a consistent look and feel across different devices.\n",
    "Accessibility: Ensure the UI is accessible to all users, including those with disabilities.\n",
    "Performance Optimization: Optimize images, use lazy loading, and minimize CSS and JavaScript.\n",
    "Testing: Test the UI on various devices and screen sizes to ensure compatibility.\n",
    "\n",
    "'''"
   ]
  },
  {
   "cell_type": "markdown",
   "id": "e28a8def-1aa3-4fb2-9c29-64bd23441068",
   "metadata": {},
   "source": [
    "# Ans : 5"
   ]
  },
  {
   "cell_type": "code",
   "execution_count": null,
   "id": "7a4ba616-cf03-4a8b-aee3-4d237daa128b",
   "metadata": {},
   "outputs": [],
   "source": [
    "'''\n",
    "1.Prepare the Machine Learning Model:\n",
    "    Train and save the ML model using frameworks like scikit-learn, TensorFlow, or PyTorch.\n",
    "\n",
    "2.Create an API for the Model:\n",
    "    Use frameworks like Flask, Django, or FastAPI to create an API that serves the model predictions.\n",
    "    Define endpoints for sending input data and receiving predictions.\n",
    "\n",
    "3.Integrate with the Front-End:\n",
    "    Use JavaScript (or TypeScript) to send data from the user interface to the API.\n",
    "    Use libraries like Axios or Fetch API to handle HTTP requests.\n",
    "\n",
    "4.Display Results:\n",
    "    Parse the API response and update the UI to display the predictions and any additional information.\n",
    "\n",
    "5.APIs and Libraries:\n",
    "    Backend: Flask, Django, FastAPI for creating APIs.\n",
    "    Frontend: Axios, Fetch API for making HTTP requests.\n",
    "    Data Visualization: Libraries like D3.js or Chart.js to visualize the predictions.\n",
    "    \n",
    "'''"
   ]
  }
 ],
 "metadata": {
  "kernelspec": {
   "display_name": "Python 3 (ipykernel)",
   "language": "python",
   "name": "python3"
  },
  "language_info": {
   "codemirror_mode": {
    "name": "ipython",
    "version": 3
   },
   "file_extension": ".py",
   "mimetype": "text/x-python",
   "name": "python",
   "nbconvert_exporter": "python",
   "pygments_lexer": "ipython3",
   "version": "3.10.8"
  }
 },
 "nbformat": 4,
 "nbformat_minor": 5
}
